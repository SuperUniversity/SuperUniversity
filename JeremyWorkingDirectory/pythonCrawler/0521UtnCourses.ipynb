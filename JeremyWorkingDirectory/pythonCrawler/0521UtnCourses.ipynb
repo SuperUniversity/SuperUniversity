{
 "cells": [
  {
   "cell_type": "code",
   "execution_count": 19,
   "metadata": {
    "collapsed": false,
    "deletable": true,
    "editable": true
   },
   "outputs": [],
   "source": [
    "from bs4 import BeautifulSoup\n",
    "import requests\n",
    "from selenium import webdriver\n",
    "\n",
    "headers = {'user-agent': 'Mozilla/5.0 (Windows NT 6.1) AppleWebKit/537.36 (KHTML, like Gecko) Chrome/52.0.2743.116 Safari/537.36'}\n",
    "url = 'https://nol.ntu.edu.tw/nol/coursesearch/search_for_02_dpt.php'\n",
    "# re = requests.get(url, headers=headers)\n",
    "\n",
    "\n",
    "\n",
    "driver = webdriver.Chrome()\n",
    "driver.get(url)\n",
    "\n"
   ]
  },
  {
   "cell_type": "code",
   "execution_count": 20,
   "metadata": {
    "collapsed": false,
    "deletable": true,
    "editable": true
   },
   "outputs": [],
   "source": [
    "elem = driver.find_element_by_id('page_cnt')\n",
    "elem.send_keys('12952')\n",
    "elem = driver.find_element_by_xpath('/html/body/table[2]/tbody/tr/td/font/table[1]/tbody/tr/td/table/tbody/tr[11]/td[2]/input')\n",
    "elem.click()"
   ]
  },
  {
   "cell_type": "code",
   "execution_count": 21,
   "metadata": {
    "collapsed": true,
    "deletable": true,
    "editable": true
   },
   "outputs": [],
   "source": [
    "file = open('NtuCourses/Main1.txt','w',encoding='utf8')\n",
    "file.write(driver.page_source)\n",
    "file.close()"
   ]
  },
  {
   "cell_type": "code",
   "execution_count": null,
   "metadata": {
    "collapsed": true,
    "deletable": true,
    "editable": true
   },
   "outputs": [],
   "source": []
  },
  {
   "cell_type": "code",
   "execution_count": 22,
   "metadata": {
    "collapsed": true,
    "deletable": true,
    "editable": true
   },
   "outputs": [],
   "source": [
    "\n"
   ]
  },
  {
   "cell_type": "code",
   "execution_count": null,
   "metadata": {
    "collapsed": false,
    "deletable": true,
    "editable": true
   },
   "outputs": [],
   "source": []
  },
  {
   "cell_type": "code",
   "execution_count": 28,
   "metadata": {
    "collapsed": false,
    "deletable": true,
    "editable": true,
    "scrolled": true
   },
   "outputs": [
    {
     "data": {
      "text/html": [
       "<div>\n",
       "<table border=\"1\" class=\"dataframe\">\n",
       "  <thead>\n",
       "    <tr style=\"text-align: right;\">\n",
       "      <th></th>\n",
       "      <th>0</th>\n",
       "      <th>1</th>\n",
       "      <th>2</th>\n",
       "      <th>3</th>\n",
       "      <th>4</th>\n",
       "      <th>5</th>\n",
       "      <th>6</th>\n",
       "      <th>7</th>\n",
       "      <th>8</th>\n",
       "      <th>9</th>\n",
       "      <th>10</th>\n",
       "      <th>11</th>\n",
       "      <th>12</th>\n",
       "      <th>13</th>\n",
       "      <th>14</th>\n",
       "      <th>15</th>\n",
       "      <th>16</th>\n",
       "    </tr>\n",
       "  </thead>\n",
       "  <tbody>\n",
       "    <tr>\n",
       "      <th>0</th>\n",
       "      <td>流水號</td>\n",
       "      <td>授課對象</td>\n",
       "      <td>課號</td>\n",
       "      <td>班次</td>\n",
       "      <td>課程名稱查看課程大綱，請點選課程名稱</td>\n",
       "      <td>學分</td>\n",
       "      <td>課程識別碼</td>\n",
       "      <td>全/半年</td>\n",
       "      <td>必/選修</td>\n",
       "      <td>授課教師</td>\n",
       "      <td>加選方式</td>\n",
       "      <td>時間教室</td>\n",
       "      <td>總人數</td>\n",
       "      <td>選課限制條件</td>\n",
       "      <td>備註</td>\n",
       "      <td>課程網頁</td>\n",
       "      <td>本學期我預計要選的課程</td>\n",
       "    </tr>\n",
       "    <tr>\n",
       "      <th>1</th>\n",
       "      <td>NaN</td>\n",
       "      <td>生科系</td>\n",
       "      <td>Common1002</td>\n",
       "      <td>NaN</td>\n",
       "      <td>國文領域下</td>\n",
       "      <td>3.0</td>\n",
       "      <td>000 10002</td>\n",
       "      <td>全年</td>\n",
       "      <td>必修</td>\n",
       "      <td>NaN</td>\n",
       "      <td>NaN</td>\n",
       "      <td>一1,2(請洽系所辦) 四1,2(請洽系所辦)</td>\n",
       "      <td>30</td>\n",
       "      <td>本校修課人數上限：30人</td>\n",
       "      <td>請參閱國文領域分班編組課程時間表。週一單週上課。</td>\n",
       "      <td>NaN</td>\n",
       "      <td>NaN</td>\n",
       "    </tr>\n",
       "    <tr>\n",
       "      <th>2</th>\n",
       "      <td>NaN</td>\n",
       "      <td>人類系</td>\n",
       "      <td>Common1002</td>\n",
       "      <td>NaN</td>\n",
       "      <td>國文領域下</td>\n",
       "      <td>3.0</td>\n",
       "      <td>000 10002</td>\n",
       "      <td>全年</td>\n",
       "      <td>必修</td>\n",
       "      <td>NaN</td>\n",
       "      <td>NaN</td>\n",
       "      <td>五7,8,9(請洽系所辦)</td>\n",
       "      <td>100</td>\n",
       "      <td>本校修課人數上限：100人</td>\n",
       "      <td>參閱國文領域課程時間表</td>\n",
       "      <td>NaN</td>\n",
       "      <td>NaN</td>\n",
       "    </tr>\n",
       "    <tr>\n",
       "      <th>3</th>\n",
       "      <td>NaN</td>\n",
       "      <td>工管系科管組</td>\n",
       "      <td>Common1002</td>\n",
       "      <td>NaN</td>\n",
       "      <td>國文領域下</td>\n",
       "      <td>3.0</td>\n",
       "      <td>000 10002</td>\n",
       "      <td>全年</td>\n",
       "      <td>必修</td>\n",
       "      <td>NaN</td>\n",
       "      <td>NaN</td>\n",
       "      <td>四7,8,9(請洽系所辦)</td>\n",
       "      <td>45</td>\n",
       "      <td>本校修課人數上限：45人</td>\n",
       "      <td>參閱國文領域課程時間表。</td>\n",
       "      <td>NaN</td>\n",
       "      <td>NaN</td>\n",
       "    </tr>\n",
       "    <tr>\n",
       "      <th>4</th>\n",
       "      <td>NaN</td>\n",
       "      <td>獸醫系</td>\n",
       "      <td>Common1002</td>\n",
       "      <td>NaN</td>\n",
       "      <td>國文領域下</td>\n",
       "      <td>3.0</td>\n",
       "      <td>000 10002</td>\n",
       "      <td>全年</td>\n",
       "      <td>必修</td>\n",
       "      <td>NaN</td>\n",
       "      <td>NaN</td>\n",
       "      <td>五7,8,9(請洽系所辦)</td>\n",
       "      <td>45</td>\n",
       "      <td>本校修課人數上限：45人</td>\n",
       "      <td>參閱國文領域課程時間表</td>\n",
       "      <td>NaN</td>\n",
       "      <td>NaN</td>\n",
       "    </tr>\n",
       "  </tbody>\n",
       "</table>\n",
       "</div>"
      ],
      "text/plain": [
       "    0       1           2    3                   4    5          6     7   \\\n",
       "0  流水號    授課對象          課號   班次  課程名稱查看課程大綱，請點選課程名稱   學分      課程識別碼  全/半年   \n",
       "1  NaN     生科系  Common1002  NaN               國文領域下  3.0  000 10002    全年   \n",
       "2  NaN     人類系  Common1002  NaN               國文領域下  3.0  000 10002    全年   \n",
       "3  NaN  工管系科管組  Common1002  NaN               國文領域下  3.0  000 10002    全年   \n",
       "4  NaN     獸醫系  Common1002  NaN               國文領域下  3.0  000 10002    全年   \n",
       "\n",
       "     8     9     10                       11   12             13  \\\n",
       "0  必/選修  授課教師  加選方式                     時間教室  總人數         選課限制條件   \n",
       "1    必修   NaN   NaN  一1,2(請洽系所辦) 四1,2(請洽系所辦)   30   本校修課人數上限：30人   \n",
       "2    必修   NaN   NaN            五7,8,9(請洽系所辦)  100  本校修課人數上限：100人   \n",
       "3    必修   NaN   NaN            四7,8,9(請洽系所辦)   45   本校修課人數上限：45人   \n",
       "4    必修   NaN   NaN            五7,8,9(請洽系所辦)   45   本校修課人數上限：45人   \n",
       "\n",
       "                         14    15           16  \n",
       "0                        備註  課程網頁  本學期我預計要選的課程  \n",
       "1  請參閱國文領域分班編組課程時間表。週一單週上課。   NaN          NaN  \n",
       "2               參閱國文領域課程時間表   NaN          NaN  \n",
       "3              參閱國文領域課程時間表。   NaN          NaN  \n",
       "4               參閱國文領域課程時間表   NaN          NaN  "
      ]
     },
     "execution_count": 28,
     "metadata": {},
     "output_type": "execute_result"
    }
   ],
   "source": [
    "import pandas as pd\n",
    "df = pd.read_html('NtuCourses/partialfile1.txt', encoding='utf8')[0]\n",
    "df.head()"
   ]
  },
  {
   "cell_type": "code",
   "execution_count": 2,
   "metadata": {
    "collapsed": false,
    "deletable": true,
    "editable": true
   },
   "outputs": [
    {
     "data": {
      "text/html": [
       "<div>\n",
       "<table border=\"1\" class=\"dataframe\">\n",
       "  <thead>\n",
       "    <tr style=\"text-align: right;\">\n",
       "      <th></th>\n",
       "      <th>0</th>\n",
       "      <th>1</th>\n",
       "    </tr>\n",
       "  </thead>\n",
       "  <tbody>\n",
       "    <tr>\n",
       "      <th>count</th>\n",
       "      <td>1</td>\n",
       "      <td>1</td>\n",
       "    </tr>\n",
       "    <tr>\n",
       "      <th>unique</th>\n",
       "      <td>1</td>\n",
       "      <td>1</td>\n",
       "    </tr>\n",
       "    <tr>\n",
       "      <th>top</th>\n",
       "      <td>��函�曉�函��雿�蝵殷��隤脩��蝬脤����亥岷 &gt; 蝟餅��隤脩��</td>\n",
       "      <td>嚗�甇∟����脣�亙�啣之隤脩��蝬�!</td>\n",
       "    </tr>\n",
       "    <tr>\n",
       "      <th>freq</th>\n",
       "      <td>1</td>\n",
       "      <td>1</td>\n",
       "    </tr>\n",
       "  </tbody>\n",
       "</table>\n",
       "</div>"
      ],
      "text/plain": [
       "                                             0                      1\n",
       "count                                        1                      1\n",
       "unique                                       1                      1\n",
       "top     ��函�曉�函��雿�蝵殷��隤脩��蝬脤����亥岷 > 蝟餅��隤脩��  嚗�甇∟����脣�亙�啣之隤脩��蝬�!\n",
       "freq                                         1                      1"
      ]
     },
     "execution_count": 2,
     "metadata": {},
     "output_type": "execute_result"
    }
   ],
   "source": [
    "df.describe()\n"
   ]
  },
  {
   "cell_type": "code",
   "execution_count": 27,
   "metadata": {
    "collapsed": false,
    "deletable": true,
    "editable": true
   },
   "outputs": [
    {
     "name": "stdout",
     "output_type": "stream",
     "text": [
      "3000\n",
      "6000\n"
     ]
    }
   ],
   "source": [
    "file = open('NtuCourses/Main.txt', 'r', encoding='utf8')\n",
    "\n",
    "tableStart = '<table width=\"100%\" border=\"1\" cellspacing=\"1\" cellpadding=\"1\" bordercolorlight=\"#CCCCCC\" bordercolordark=\"#CCCCCC\">'\n",
    "tableHead = '''<tbody><tr bgcolor=\"#DDEDFF\" align=\"center\"><td height=\"25\">流水號</td><td>授課對象</td><td>課號</td><td>班次</td><td>課程名稱<br /><font color=\"red\">查看課程大綱，請點選課程名稱</font></td><td>學分</td><td>課程識別碼</td><td>全/半年</td><td>必/選修</td><td>授課教師</td><td>加選<br />方式</td><td>時間<br />教室</td><td>總人數</td><td width=\"15%\">選課限制條件</td><td width=\"15%\">備註</td><td width=\"3%\">課程網頁</td><td width=\"10%\">本學期<br />我預計<br />要選的<br />課程</td></tr>'''\n",
    "tableEnd = '</tbody></table>'\n",
    "\n",
    "flag = 0\n",
    "count = 0\n",
    "for line in file:\n",
    "    if tableStart in line:\n",
    "        partialfile1 = open('NtuCourses/partialfile1.txt','w',encoding='utf8')\n",
    "        flag = 1\n",
    "    if count==3000:\n",
    "        print(count)\n",
    "        partialfile1.write(tableEnd)\n",
    "        partialfile1.close()\n",
    "        partialfile2 = open('NtuCourses/partialfile2.txt','w',encoding='utf8')\n",
    "        partialfile2.write(tableStart+tableHead)\n",
    "        flag = 2\n",
    "    if count==6000:\n",
    "        print(count)\n",
    "        partialfile2.write(tableEnd)\n",
    "        partialfile2.close()\n",
    "        partialfile3 = open('NtuCourses/partialfile3.txt','w',encoding='utf8')\n",
    "        partialfile3.write(tableStart+tableHead)\n",
    "        flag = 3\n",
    "    if flag ==1:\n",
    "        partialfile1.write(line)\n",
    "    if flag ==2:\n",
    "        partialfile2.write(line)\n",
    "    if flag ==3:\n",
    "        partialfile3.write(line)\n",
    "    count +=1\n",
    "\n",
    "# partialfile3.writeline(tableEnd)\n",
    "\n",
    "partialfile3.close()\n"
   ]
  },
  {
   "cell_type": "code",
   "execution_count": 18,
   "metadata": {
    "collapsed": false,
    "deletable": true,
    "editable": true
   },
   "outputs": [
    {
     "data": {
      "text/plain": [
       "8763"
      ]
     },
     "execution_count": 18,
     "metadata": {},
     "output_type": "execute_result"
    }
   ],
   "source": []
  },
  {
   "cell_type": "code",
   "execution_count": null,
   "metadata": {
    "collapsed": true,
    "deletable": true,
    "editable": true
   },
   "outputs": [],
   "source": []
  }
 ],
 "metadata": {
  "kernelspec": {
   "display_name": "Python 3",
   "language": "python",
   "name": "python3"
  },
  "language_info": {
   "codemirror_mode": {
    "name": "ipython",
    "version": 3
   },
   "file_extension": ".py",
   "mimetype": "text/x-python",
   "name": "python",
   "nbconvert_exporter": "python",
   "pygments_lexer": "ipython3",
   "version": "3.5.3"
  }
 },
 "nbformat": 4,
 "nbformat_minor": 2
}
